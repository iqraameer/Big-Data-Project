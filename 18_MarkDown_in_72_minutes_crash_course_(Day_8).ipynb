{
  "nbformat": 4,
  "nbformat_minor": 0,
  "metadata": {
    "colab": {
      "name": "18- MarkDown in 72 minutes crash course (Day-8).ipynb",
      "provenance": [],
      "authorship_tag": "ABX9TyM+GcX10pyb5YPyAQ6z7p3n",
      "include_colab_link": true
    },
    "kernelspec": {
      "name": "python3",
      "display_name": "Python 3"
    },
    "language_info": {
      "name": "python"
    }
  },
  "cells": [
    {
      "cell_type": "markdown",
      "metadata": {
        "id": "view-in-github",
        "colab_type": "text"
      },
      "source": [
        "<a href=\"https://colab.research.google.com/github/iqraameer/Big-Data-Project/blob/master/18_MarkDown_in_72_minutes_crash_course_(Day_8).ipynb\" target=\"_parent\"><img src=\"https://colab.research.google.com/assets/colab-badge.svg\" alt=\"Open In Colab\"/></a>"
      ]
    },
    {
      "cell_type": "markdown",
      "source": [
        "# <b>Participant</b>\n",
        "\n",
        "Title= \"PhD Scholar\"\\\n",
        "Name= \"Iqra Ameer\"\\\n",
        "email = \"iqra@nlp.cic.ipn.mx\"\\\n",
        "whatsapp = \"00923446062833\""
      ],
      "metadata": {
        "id": "g392-4Aa53YJ"
      }
    },
    {
      "cell_type": "markdown",
      "source": [
        "# <b>Mark Down Language Cheetsheet</b>"
      ],
      "metadata": {
        "id": "Mi5ejId9ct9K"
      }
    },
    {
      "cell_type": "markdown",
      "source": [
        " # <b>Table of Content</b>\n"
      ],
      "metadata": {
        "id": "REbQpul8uDJ-"
      }
    },
    {
      "cell_type": "markdown",
      "source": [
        ">[Mark Down Language Cheetsheet](#updateTitle=true&folderId=1AtzIg5ilzDRIlq1uiLtM6L0W95JOH5uV&scrollTo=Mi5ejId9ct9K)\n",
        "\n",
        ">>[Table of Content](#updateTitle=true&folderId=1AtzIg5ilzDRIlq1uiLtM6L0W95JOH5uV&scrollTo=REbQpul8uDJ-)\n",
        "\n",
        ">>[Headings](#updateTitle=true&folderId=1AtzIg5ilzDRIlq1uiLtM6L0W95JOH5uV&scrollTo=rdyLMfE8daNw)\n",
        "\n",
        ">>[Block of Words](#updateTitle=true&folderId=1AtzIg5ilzDRIlq1uiLtM6L0W95JOH5uV&scrollTo=XaiZEE7Hcfkr)\n",
        "\n",
        ">>[Line Break](#updateTitle=true&folderId=1AtzIg5ilzDRIlq1uiLtM6L0W95JOH5uV&scrollTo=WMiELixXcf0r)\n",
        "\n",
        ">>[Combine block of words and Heading two](#updateTitle=true&folderId=1AtzIg5ilzDRIlq1uiLtM6L0W95JOH5uV&scrollTo=NnOfkgXvcf-e)\n",
        "\n",
        ">>[Headinng 2](#updateTitle=true&folderId=1AtzIg5ilzDRIlq1uiLtM6L0W95JOH5uV&scrollTo=NnOfkgXvcf-e)\n",
        "\n",
        ">>[Face Text](#updateTitle=true&folderId=1AtzIg5ilzDRIlq1uiLtM6L0W95JOH5uV&scrollTo=fdT_EDrNcgF7)\n",
        "\n",
        ">>[Bullet Points](#updateTitle=true&folderId=1AtzIg5ilzDRIlq1uiLtM6L0W95JOH5uV&scrollTo=ob65hfogcgLy)\n",
        "\n",
        ">>[Line Breaks or Page break](#updateTitle=true&folderId=1AtzIg5ilzDRIlq1uiLtM6L0W95JOH5uV&scrollTo=yYCynVVQgYA6)\n",
        "\n",
        ">>[Save links and Hyperlinks](#updateTitle=true&folderId=1AtzIg5ilzDRIlq1uiLtM6L0W95JOH5uV&scrollTo=VGzcUCjNgwXt)\n",
        "\n",
        ">>[Images](#updateTitle=true&folderId=1AtzIg5ilzDRIlq1uiLtM6L0W95JOH5uV&scrollTo=OueMQpW9jGZe)\n",
        "\n",
        ">>[Code Block](#updateTitle=true&folderId=1AtzIg5ilzDRIlq1uiLtM6L0W95JOH5uV&scrollTo=GOOlZE1Ql6L7)\n",
        "\n",
        ">>[Adding Tables](#updateTitle=true&folderId=1AtzIg5ilzDRIlq1uiLtM6L0W95JOH5uV&scrollTo=-rxxPBXFoS4T)\n",
        "\n"
      ],
      "metadata": {
        "colab_type": "toc",
        "id": "pbjZTKcYuS0H"
      }
    },
    {
      "cell_type": "markdown",
      "source": [
        "## 1. <b>Headings</b>\n",
        "\"# First Headinng\"\n",
        "\n",
        "\"## Second Headinng\"\n",
        "\n",
        "\"### Second Headinng\"\n",
        "\n"
      ],
      "metadata": {
        "id": "rdyLMfE8daNw"
      }
    },
    {
      "cell_type": "markdown",
      "source": [
        "## 2. <b>Block of Words</b>\n",
        "\n",
        "> This a first block of words\n",
        "[link text](https://)\n",
        "> This a second block of words"
      ],
      "metadata": {
        "id": "XaiZEE7Hcfkr"
      }
    },
    {
      "cell_type": "markdown",
      "source": [
        ""
      ],
      "metadata": {
        "id": "tSlvEEWRcfwK"
      }
    },
    {
      "cell_type": "markdown",
      "source": [
        "## 3. <b>Line Break</b>\n",
        "\n",
        "This is normal text\\\n",
        "Another example of normal text\n"
      ],
      "metadata": {
        "id": "WMiELixXcf0r"
      }
    },
    {
      "cell_type": "markdown",
      "source": [
        "## 4. <b>Combine block of words and Heading two</b>\n",
        "\n",
        "> ## Headinng 2"
      ],
      "metadata": {
        "id": "NnOfkgXvcf-e"
      }
    },
    {
      "cell_type": "markdown",
      "source": [
        "## 5. <b>Face Text</b>\n",
        "\n",
        "- Bold\n",
        "> **Bold**\n",
        "- Italic\n",
        "> *Italic*\n",
        "- Bold and Italic\n",
        "> ***Italic and Bold***\n",
        "\n",
        "> **Note**\n",
        "- We can use # or _ for bold and italic\n",
        "\n"
      ],
      "metadata": {
        "id": "fdT_EDrNcgF7"
      }
    },
    {
      "cell_type": "markdown",
      "source": [
        "## 6. <b>Bullet Points</b>\n",
        "\n",
        "- Day 1\n",
        "- Day 2\n",
        "- Day3 \n",
        "  - Day 3a\n",
        "  - Day 3b\n",
        "    - Structures\n",
        "\n",
        "> **Numeric List**\n",
        "1. Day 1 \n",
        "2. Day 2\n"
      ],
      "metadata": {
        "id": "ob65hfogcgLy"
      }
    },
    {
      "cell_type": "markdown",
      "source": [
        "## 7. <b>Line Breaks or Page break</b>\n",
        "\n",
        "This is first page \n",
        "\n",
        "---\n",
        "This is second page\n",
        "***\n",
        "\n"
      ],
      "metadata": {
        "id": "yYCynVVQgYA6"
      }
    },
    {
      "cell_type": "markdown",
      "source": [
        "## 8. <b>Save links and Hyperlinks</b>\n",
        "\n",
        "**1. Links**\n",
        "\n",
        " <https://www.youtube.com/watch?v=qJqAXjz-Rh4>\n",
        "\n",
        "**2. Clickable llink**\n",
        "\n",
        "[This is link of 18- MarkDown in 72 minutes crash course (Day-8)](https://www.youtube.com/watch?v=qJqAXjz-Rh4)\n",
        "\n",
        "**3. Make Key of link, if you have to use sevveral times** \n",
        "\n",
        "[Markdown language]:https://www.youtube.com/watch?v=qJqAXjz-Rh4\n",
        "\n",
        "To lear Markdown language, click [here][Markdown language]\n"
      ],
      "metadata": {
        "id": "VGzcUCjNgwXt"
      }
    },
    {
      "cell_type": "markdown",
      "source": [
        "## 10. <b>Images</b>\n",
        "\n",
        "1. Save in drive \n",
        "2. In Google Drive, right-click on the picture and Choose 'Get a sharable link'\n",
        "3. Click to 'Copy link'. You need reader permissions. Just need the id of the image.\n",
        "4. Replace \"you_id with figure id of drive\" https://drive.google.com/uc?export=view&id=your_id\n",
        "\n",
        "5. Example https://drive.google.com/uc?export=view&id=1xDrydbSbijvK2JBftUz-5ovagN2B_RWH\n",
        "\n",
        "Finally, to place as an image in Google Colab: ![](https://drive.google.com/uc?export=view&id=1xDrydbSbijvK2JBftUz-5ovagN2B_RWH)"
      ],
      "metadata": {
        "id": "OueMQpW9jGZe"
      }
    },
    {
      "cell_type": "markdown",
      "source": [
        "## 11. <b>Code Block</b>\n",
        "\n",
        "1. To pront a string use `print(\"anythinng\")`\n",
        "2. Blockk of code\n",
        "\n",
        "> This code will show colors of python language\n",
        " ```python\n",
        " x = 5 \n",
        " y = 7\n",
        " z = x+y\n",
        " print(z)\n",
        "```\n"
      ],
      "metadata": {
        "id": "GOOlZE1Ql6L7"
      }
    },
    {
      "cell_type": "markdown",
      "source": [
        "## 12. <b>Adding Tables</b>\n",
        "\n",
        "|Mexico | Canada| United States|\n",
        "|:------:|:-------:|:---------:|\n",
        "|A | B| C|\n",
        "|Mexico | Canada| United States|\n",
        "|A | B| C|\n"
      ],
      "metadata": {
        "id": "-rxxPBXFoS4T"
      }
    }
  ]
}